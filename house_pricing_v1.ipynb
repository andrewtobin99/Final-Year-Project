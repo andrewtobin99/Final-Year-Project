{
 "cells": [
  {
   "cell_type": "markdown",
   "metadata": {},
   "source": [
    "## Load datasets"
   ]
  },
  {
   "cell_type": "markdown",
   "metadata": {},
   "source": [
    "SUMMARY OF CHANGES FROM BASELINE\n",
    "- Data Cleaning and Prep (Outliers Removed etc.)\n",
    "- Categorical Data Used as Predictors Using Dummy Matrices\n",
    "- Log Price Transformation Used to Improve Predictive Accuracy\n",
    "- Rows with Lots of Missing Data Removed"
   ]
  },
  {
   "cell_type": "code",
   "execution_count": 1,
   "metadata": {},
   "outputs": [],
   "source": [
    "import pandas as pd\n",
    "import sklearn as sk\n",
    "import plotly as pl\n",
    "import matplotlib\n",
    "import matplotlib.pyplot as plt\n",
    "import math\n",
    "import patsy as patsy\n",
    "import pickle\n",
    "import statsmodels.api as sm\n",
    "import numpy as np \n",
    "import seaborn as sns\n",
    "from sklearn.linear_model import LinearRegression\n",
    "from sklearn.model_selection import train_test_split\n",
    "\n",
    "import functions as f ## imports all the functions that are in a separate file to keep this file cleaner\n",
    "\n",
    "dftrain = pd.read_csv(\"/Users/andrewtobin/College/final_year/FYP/House_pricing_dataset-master/dataset_csv/train.csv\",index_col='ad_id')\n",
    "dftest  = pd.read_csv( \"/Users/andrewtobin/College/final_year/FYP/House_pricing_dataset-master/dataset_csv/test.csv\",index_col='ad_id')"
   ]
  },
  {
   "cell_type": "markdown",
   "metadata": {},
   "source": [
    "## Data Cleaning and Prep"
   ]
  },
  {
   "cell_type": "code",
   "execution_count": 2,
   "metadata": {},
   "outputs": [],
   "source": [
    "dftrain = f.prep_data(dftrain) ## prepping the data (drops any unneccessary columns, and cleans any messy data)"
   ]
  },
  {
   "cell_type": "code",
   "execution_count": 3,
   "metadata": {},
   "outputs": [],
   "source": [
    "dftrain = f.remove_outliers(dftrain) ## removing any outliers from the data"
   ]
  },
  {
   "cell_type": "code",
   "execution_count": 4,
   "metadata": {},
   "outputs": [],
   "source": [
    "dftrain = f.get_dummies(dftrain) ## converts categorical data to dummy matrices and merges with our dataset"
   ]
  },
  {
   "cell_type": "code",
   "execution_count": 5,
   "metadata": {},
   "outputs": [],
   "source": [
    "X_train = dftrain.drop(['price', 'log_price'], axis=1)\n",
    "Y_train = dftrain['log_price']"
   ]
  },
  {
   "cell_type": "code",
   "execution_count": 6,
   "metadata": {},
   "outputs": [
    {
     "data": {
      "text/html": "<div>\n<style scoped>\n    .dataframe tbody tr th:only-of-type {\n        vertical-align: middle;\n    }\n\n    .dataframe tbody tr th {\n        vertical-align: top;\n    }\n\n    .dataframe thead th {\n        text-align: right;\n    }\n</style>\n<table border=\"1\" class=\"dataframe\">\n  <thead>\n    <tr style=\"text-align: right;\">\n      <th></th>\n      <th>area_Adamstown</th>\n      <th>area_Ard Na Greine</th>\n      <th>area_Artane</th>\n      <th>area_Ashtown</th>\n      <th>area_Baldoyle</th>\n      <th>area_Balgriffin</th>\n      <th>area_Ballinteer</th>\n      <th>area_Ballsbridge</th>\n      <th>area_Ballybough</th>\n      <th>area_Ballyboughal</th>\n      <th>...</th>\n      <th>beds</th>\n      <th>latitude</th>\n      <th>longitude</th>\n      <th>surface</th>\n      <th>_Alarm</th>\n      <th>_Gas Fired Central Heating</th>\n      <th>_Oil Fired Central Heating</th>\n      <th>_Parking</th>\n      <th>_Wheelchair Access</th>\n      <th>_Wired for Cable Television</th>\n    </tr>\n    <tr>\n      <th>ad_id</th>\n      <th></th>\n      <th></th>\n      <th></th>\n      <th></th>\n      <th></th>\n      <th></th>\n      <th></th>\n      <th></th>\n      <th></th>\n      <th></th>\n      <th></th>\n      <th></th>\n      <th></th>\n      <th></th>\n      <th></th>\n      <th></th>\n      <th></th>\n      <th></th>\n      <th></th>\n      <th></th>\n      <th></th>\n    </tr>\n  </thead>\n  <tbody>\n    <tr>\n      <th>11161103</th>\n      <td>0</td>\n      <td>0</td>\n      <td>0</td>\n      <td>0</td>\n      <td>0</td>\n      <td>0</td>\n      <td>0</td>\n      <td>0</td>\n      <td>0</td>\n      <td>0</td>\n      <td>...</td>\n      <td>1.0</td>\n      <td>53.353395</td>\n      <td>-6.458716</td>\n      <td>319.038224</td>\n      <td>0</td>\n      <td>0</td>\n      <td>0</td>\n      <td>1</td>\n      <td>0</td>\n      <td>0</td>\n    </tr>\n    <tr>\n      <th>11185670</th>\n      <td>0</td>\n      <td>0</td>\n      <td>0</td>\n      <td>0</td>\n      <td>0</td>\n      <td>0</td>\n      <td>0</td>\n      <td>0</td>\n      <td>0</td>\n      <td>0</td>\n      <td>...</td>\n      <td>5.0</td>\n      <td>53.375467</td>\n      <td>-6.062246</td>\n      <td>202.000000</td>\n      <td>0</td>\n      <td>1</td>\n      <td>0</td>\n      <td>1</td>\n      <td>0</td>\n      <td>1</td>\n    </tr>\n    <tr>\n      <th>11421934</th>\n      <td>0</td>\n      <td>0</td>\n      <td>0</td>\n      <td>0</td>\n      <td>0</td>\n      <td>0</td>\n      <td>0</td>\n      <td>0</td>\n      <td>0</td>\n      <td>0</td>\n      <td>...</td>\n      <td>3.0</td>\n      <td>53.246732</td>\n      <td>-6.174917</td>\n      <td>150.000000</td>\n      <td>0</td>\n      <td>0</td>\n      <td>0</td>\n      <td>0</td>\n      <td>0</td>\n      <td>0</td>\n    </tr>\n    <tr>\n      <th>11487466</th>\n      <td>0</td>\n      <td>0</td>\n      <td>0</td>\n      <td>0</td>\n      <td>0</td>\n      <td>0</td>\n      <td>0</td>\n      <td>0</td>\n      <td>0</td>\n      <td>0</td>\n      <td>...</td>\n      <td>3.0</td>\n      <td>53.403799</td>\n      <td>-6.294608</td>\n      <td>319.038224</td>\n      <td>0</td>\n      <td>0</td>\n      <td>0</td>\n      <td>0</td>\n      <td>0</td>\n      <td>0</td>\n    </tr>\n    <tr>\n      <th>11489764</th>\n      <td>0</td>\n      <td>0</td>\n      <td>0</td>\n      <td>0</td>\n      <td>0</td>\n      <td>0</td>\n      <td>0</td>\n      <td>0</td>\n      <td>0</td>\n      <td>0</td>\n      <td>...</td>\n      <td>2.0</td>\n      <td>53.402663</td>\n      <td>-6.294619</td>\n      <td>319.038224</td>\n      <td>0</td>\n      <td>0</td>\n      <td>0</td>\n      <td>0</td>\n      <td>0</td>\n      <td>0</td>\n    </tr>\n  </tbody>\n</table>\n<p>5 rows × 185 columns</p>\n</div>",
      "text/plain": "          area_Adamstown  area_Ard Na Greine  area_Artane  area_Ashtown  \\\nad_id                                                                     \n11161103               0                   0            0             0   \n11185670               0                   0            0             0   \n11421934               0                   0            0             0   \n11487466               0                   0            0             0   \n11489764               0                   0            0             0   \n\n          area_Baldoyle  area_Balgriffin  area_Ballinteer  area_Ballsbridge  \\\nad_id                                                                         \n11161103              0                0                0                 0   \n11185670              0                0                0                 0   \n11421934              0                0                0                 0   \n11487466              0                0                0                 0   \n11489764              0                0                0                 0   \n\n          area_Ballybough  area_Ballyboughal  ...  beds   latitude  longitude  \\\nad_id                                         ...                               \n11161103                0                  0  ...   1.0  53.353395  -6.458716   \n11185670                0                  0  ...   5.0  53.375467  -6.062246   \n11421934                0                  0  ...   3.0  53.246732  -6.174917   \n11487466                0                  0  ...   3.0  53.403799  -6.294608   \n11489764                0                  0  ...   2.0  53.402663  -6.294619   \n\n             surface  _Alarm  _Gas Fired Central Heating  \\\nad_id                                                      \n11161103  319.038224       0                           0   \n11185670  202.000000       0                           1   \n11421934  150.000000       0                           0   \n11487466  319.038224       0                           0   \n11489764  319.038224       0                           0   \n\n          _Oil Fired Central Heating  _Parking  _Wheelchair Access  \\\nad_id                                                                \n11161103                           0         1                   0   \n11185670                           0         1                   0   \n11421934                           0         0                   0   \n11487466                           0         0                   0   \n11489764                           0         0                   0   \n\n          _Wired for Cable Television  \nad_id                                  \n11161103                            0  \n11185670                            1  \n11421934                            0  \n11487466                            0  \n11489764                            0  \n\n[5 rows x 185 columns]"
     },
     "execution_count": 6,
     "metadata": {},
     "output_type": "execute_result"
    }
   ],
   "source": [
    "X_train.head()"
   ]
  },
  {
   "cell_type": "code",
   "execution_count": 7,
   "metadata": {},
   "outputs": [
    {
     "data": {
      "text/plain": "ad_id\n11161103    13.304685\n11185670    13.795308\n11421934    13.652992\n11487466    12.345835\n11489764    12.154516\nName: log_price, dtype: float64"
     },
     "execution_count": 7,
     "metadata": {},
     "output_type": "execute_result"
    }
   ],
   "source": [
    "Y_train.head()"
   ]
  },
  {
   "cell_type": "markdown",
   "metadata": {},
   "source": [
    "## Train Model"
   ]
  },
  {
   "cell_type": "code",
   "execution_count": 8,
   "metadata": {},
   "outputs": [],
   "source": [
    "reg = LinearRegression().fit(X_train, Y_train)"
   ]
  },
  {
   "cell_type": "markdown",
   "metadata": {},
   "source": [
    "## Test Model"
   ]
  },
  {
   "cell_type": "code",
   "execution_count": 9,
   "metadata": {},
   "outputs": [],
   "source": [
    "# predictions for training data\n",
    "f.make_predictions(dftrain, X_train, reg)"
   ]
  },
  {
   "cell_type": "markdown",
   "metadata": {},
   "source": [
    "### Compute MdAPE: Median absolute percentage error (less sensitive to outliers than MAPE)"
   ]
  },
  {
   "cell_type": "code",
   "execution_count": 10,
   "metadata": {},
   "outputs": [
    {
     "name": "stdout",
     "output_type": "stream",
     "text": [
      "Training MdAPE:  9.62 %\n",
      "Training MAPE:  13.04 %\n"
     ]
    }
   ],
   "source": [
    "print('Training MdAPE: ', f.MdAPE(dftrain['price'], dftrain['predicted_price']), '%')\n",
    "print('Training MAPE: ', f.MAPE(dftrain['price'], dftrain['predicted_price']), '%')"
   ]
  },
  {
   "cell_type": "code",
   "execution_count": 11,
   "metadata": {},
   "outputs": [],
   "source": [
    "#importance = reg.coef_\n",
    "# summarize feature importance\n",
    "#for i,v in enumerate(importance):\n",
    "\t#print('Feature: %0d, Score: %.5f' % (i,v))\n",
    "# plot feature importance\n",
    "#plt.bar([x for x in range(len(importance))], importance)\n",
    "#plt.show()\n",
    "#importance = -np.sort(-importance)\n",
    "#top_50 = importance[0:50]\n",
    "#for i, v in enumerate(top_50):\n",
    "#\tprint('Feature: %0d, Score: %.5f' % (i,v))\n",
    "#plt.bar([x for x in range(len(top_50))], top_50)\n",
    "#plt.show()\n"
   ]
  }
 ],
 "metadata": {
  "kernelspec": {
   "display_name": "Python 3",
   "language": "python",
   "name": "python3"
  },
  "language_info": {
   "codemirror_mode": {
    "name": "ipython",
    "version": 3
   },
   "file_extension": ".py",
   "mimetype": "text/x-python",
   "name": "python",
   "nbconvert_exporter": "python",
   "pygments_lexer": "ipython3",
   "version": "3.8.5"
  },
  "toc": {
   "base_numbering": 1,
   "nav_menu": {},
   "number_sections": false,
   "sideBar": true,
   "skip_h1_title": false,
   "title_cell": "Table of Contents",
   "title_sidebar": "Contents",
   "toc_cell": false,
   "toc_position": {},
   "toc_section_display": true,
   "toc_window_display": false
  }
 },
 "nbformat": 4,
 "nbformat_minor": 2
}